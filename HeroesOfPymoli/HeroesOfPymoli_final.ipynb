{
 "cells": [
  {
   "cell_type": "markdown",
   "metadata": {},
   "source": [
    "### Note\n",
    "* Instructions have been included for each segment. You do not have to follow them exactly, but they are included to help you think through the steps."
   ]
  },
  {
   "cell_type": "code",
   "execution_count": null,
   "metadata": {},
   "outputs": [],
   "source": []
  },
  {
   "cell_type": "code",
   "execution_count": 11,
   "metadata": {},
   "outputs": [
    {
     "data": {
      "text/plain": [
       "Index(['Purchase ID', 'SN', 'Age', 'Gender', 'Item ID', 'Item Name', 'Price'], dtype='object')"
      ]
     },
     "execution_count": 11,
     "metadata": {},
     "output_type": "execute_result"
    }
   ],
   "source": [
    "# Dependencies and Setup\n",
    "import pandas as pd\n",
    "\n",
    "# File to Load (Remember to Change These)\n",
    "file_to_load = \"Resources/purchase_data.csv\"\n",
    "\n",
    "# Read Purchasing File and store into Pandas data frame\n",
    "store_data = pd.read_csv(file_to_load)\n",
    "store_data.columns"
   ]
  },
  {
   "cell_type": "markdown",
   "metadata": {},
   "source": [
    "## Player Count"
   ]
  },
  {
   "cell_type": "markdown",
   "metadata": {},
   "source": [
    "* Display the total number of players\n"
   ]
  },
  {
   "cell_type": "code",
   "execution_count": 56,
   "metadata": {},
   "outputs": [
    {
     "data": {
      "text/html": [
       "<div>\n",
       "<style scoped>\n",
       "    .dataframe tbody tr th:only-of-type {\n",
       "        vertical-align: middle;\n",
       "    }\n",
       "\n",
       "    .dataframe tbody tr th {\n",
       "        vertical-align: top;\n",
       "    }\n",
       "\n",
       "    .dataframe thead th {\n",
       "        text-align: right;\n",
       "    }\n",
       "</style>\n",
       "<table border=\"1\" class=\"dataframe\">\n",
       "  <thead>\n",
       "    <tr style=\"text-align: right;\">\n",
       "      <th></th>\n",
       "      <th>Total Players</th>\n",
       "    </tr>\n",
       "  </thead>\n",
       "  <tbody>\n",
       "    <tr>\n",
       "      <td>0</td>\n",
       "      <td>576</td>\n",
       "    </tr>\n",
       "  </tbody>\n",
       "</table>\n",
       "</div>"
      ],
      "text/plain": [
       "   Total Players\n",
       "0            576"
      ]
     },
     "execution_count": 56,
     "metadata": {},
     "output_type": "execute_result"
    }
   ],
   "source": [
    "totalplayers= store_data[\"SN\"].nunique()\n",
    "totalplayers_df = pd.DataFrame({\"Total Players\":[totalplayers]})\n",
    "totalplayers_df"
   ]
  },
  {
   "cell_type": "markdown",
   "metadata": {},
   "source": [
    "## Purchasing Analysis (Total)"
   ]
  },
  {
   "cell_type": "markdown",
   "metadata": {},
   "source": [
    "* Run basic calculations to obtain number of unique items, average price, etc.\n",
    "\n",
    "\n",
    "* Create a summary data frame to hold the results\n",
    "\n",
    "\n",
    "* Optional: give the displayed data cleaner formatting\n",
    "\n",
    "\n",
    "* Display the summary data frame\n"
   ]
  },
  {
   "cell_type": "code",
   "execution_count": 80,
   "metadata": {
    "scrolled": true
   },
   "outputs": [
    {
     "data": {
      "text/html": [
       "<style  type=\"text/css\" >\n",
       "</style><table id=\"T_e02ecc8c_7126_11ea_9a3f_e4a4718e2aaa\" ><thead>    <tr>        <th class=\"blank level0\" ></th>        <th class=\"col_heading level0 col0\" >Number of Unique Items</th>        <th class=\"col_heading level0 col1\" >Average Price</th>        <th class=\"col_heading level0 col2\" >Number of Purchases</th>        <th class=\"col_heading level0 col3\" >Total Revenue</th>    </tr></thead><tbody>\n",
       "                <tr>\n",
       "                        <th id=\"T_e02ecc8c_7126_11ea_9a3f_e4a4718e2aaalevel0_row0\" class=\"row_heading level0 row0\" >0</th>\n",
       "                        <td id=\"T_e02ecc8c_7126_11ea_9a3f_e4a4718e2aaarow0_col0\" class=\"data row0 col0\" >179</td>\n",
       "                        <td id=\"T_e02ecc8c_7126_11ea_9a3f_e4a4718e2aaarow0_col1\" class=\"data row0 col1\" >$3.05</td>\n",
       "                        <td id=\"T_e02ecc8c_7126_11ea_9a3f_e4a4718e2aaarow0_col2\" class=\"data row0 col2\" >780</td>\n",
       "                        <td id=\"T_e02ecc8c_7126_11ea_9a3f_e4a4718e2aaarow0_col3\" class=\"data row0 col3\" >$2379.77</td>\n",
       "            </tr>\n",
       "    </tbody></table>"
      ],
      "text/plain": [
       "<pandas.io.formats.style.Styler at 0x2907e01e188>"
      ]
     },
     "execution_count": 80,
     "metadata": {},
     "output_type": "execute_result"
    }
   ],
   "source": [
    "uni_num= store_data['Item Name'].nunique()\n",
    "avgprice= store_data['Price'].mean()\n",
    "numpur= store_data['Purchase ID'].nunique()\n",
    "revenue= store_data['Price'].sum()\n",
    "\n",
    "purchases_df= pd.DataFrame({\"Number of Unique Items\":[uni_num],\n",
    "                           \"Average Price\":[avgprice],\n",
    "                           \"Number of Purchases\":[numpur],\n",
    "                           \"Total Revenue\":[revenue]})\n",
    "\n",
    "purchases_df.style.format({\"Average Price\":\"${:.2f}\",\n",
    "                          \"Total Revenue\":\"${:.2f}\"})"
   ]
  },
  {
   "cell_type": "markdown",
   "metadata": {},
   "source": [
    "## Gender Demographics"
   ]
  },
  {
   "cell_type": "markdown",
   "metadata": {},
   "source": [
    "* Percentage and Count of Male Players\n",
    "\n",
    "\n",
    "* Percentage and Count of Female Players\n",
    "\n",
    "\n",
    "* Percentage and Count of Other / Non-Disclosed\n",
    "\n",
    "\n"
   ]
  },
  {
   "cell_type": "code",
   "execution_count": 122,
   "metadata": {},
   "outputs": [
    {
     "data": {
      "text/html": [
       "<style  type=\"text/css\" >\n",
       "</style><table id=\"T_372e3254_7159_11ea_9998_e4a4718e2aaa\" ><thead>    <tr>        <th class=\"blank level0\" ></th>        <th class=\"col_heading level0 col0\" >Count</th>        <th class=\"col_heading level0 col1\" >Percentage of Players</th>    </tr>    <tr>        <th class=\"index_name level0\" >Gender</th>        <th class=\"blank\" ></th>        <th class=\"blank\" ></th>    </tr></thead><tbody>\n",
       "                <tr>\n",
       "                        <th id=\"T_372e3254_7159_11ea_9998_e4a4718e2aaalevel0_row0\" class=\"row_heading level0 row0\" >Male</th>\n",
       "                        <td id=\"T_372e3254_7159_11ea_9998_e4a4718e2aaarow0_col0\" class=\"data row0 col0\" >484</td>\n",
       "                        <td id=\"T_372e3254_7159_11ea_9998_e4a4718e2aaarow0_col1\" class=\"data row0 col1\" >84.03%</td>\n",
       "            </tr>\n",
       "            <tr>\n",
       "                        <th id=\"T_372e3254_7159_11ea_9998_e4a4718e2aaalevel0_row1\" class=\"row_heading level0 row1\" >Female</th>\n",
       "                        <td id=\"T_372e3254_7159_11ea_9998_e4a4718e2aaarow1_col0\" class=\"data row1 col0\" >81</td>\n",
       "                        <td id=\"T_372e3254_7159_11ea_9998_e4a4718e2aaarow1_col1\" class=\"data row1 col1\" >14.06%</td>\n",
       "            </tr>\n",
       "            <tr>\n",
       "                        <th id=\"T_372e3254_7159_11ea_9998_e4a4718e2aaalevel0_row2\" class=\"row_heading level0 row2\" >Other / Non-Disclosed</th>\n",
       "                        <td id=\"T_372e3254_7159_11ea_9998_e4a4718e2aaarow2_col0\" class=\"data row2 col0\" >11</td>\n",
       "                        <td id=\"T_372e3254_7159_11ea_9998_e4a4718e2aaarow2_col1\" class=\"data row2 col1\" >1.91%</td>\n",
       "            </tr>\n",
       "    </tbody></table>"
      ],
      "text/plain": [
       "<pandas.io.formats.style.Styler at 0x2907e1402c8>"
      ]
     },
     "execution_count": 122,
     "metadata": {},
     "output_type": "execute_result"
    }
   ],
   "source": [
    "genders= store_data.groupby(['Gender'])\n",
    "gender_count= genders.nunique()['SN']\n",
    "per_gender= (gender_count/totalplayers)*100\n",
    "\n",
    "gender_df= pd.DataFrame({\n",
    "                         \"Count\":gender_count,\n",
    "                         \"Percentage of Players\":per_gender})\n",
    "\n",
    "gender_df= gender_df.sort_values([\"Count\"], ascending = False).style.format({\"Percentage of Players\":\"{:.2f}%\"})\n",
    "gender_df"
   ]
  },
  {
   "cell_type": "markdown",
   "metadata": {},
   "source": [
    "\n",
    "## Purchasing Analysis (Gender)"
   ]
  },
  {
   "cell_type": "markdown",
   "metadata": {},
   "source": [
    "* Run basic calculations to obtain purchase count, avg. purchase price, avg. purchase total per person etc. by gender\n",
    "\n",
    "\n",
    "\n",
    "\n",
    "* Create a summary data frame to hold the results\n",
    "\n",
    "\n",
    "* Optional: give the displayed data cleaner formatting\n",
    "\n",
    "\n",
    "* Display the summary data frame"
   ]
  },
  {
   "cell_type": "code",
   "execution_count": 179,
   "metadata": {},
   "outputs": [
    {
     "data": {
      "text/html": [
       "<style  type=\"text/css\" >\n",
       "</style><table id=\"T_ce2bc00c_7166_11ea_ba76_e4a4718e2aaa\" ><thead>    <tr>        <th class=\"blank level0\" ></th>        <th class=\"col_heading level0 col0\" >Purchase Count</th>        <th class=\"col_heading level0 col1\" >Average Purchase Price</th>        <th class=\"col_heading level0 col2\" >Total Purchase Value</th>        <th class=\"col_heading level0 col3\" >Average Total per Person</th>    </tr>    <tr>        <th class=\"index_name level0\" >Gender</th>        <th class=\"blank\" ></th>        <th class=\"blank\" ></th>        <th class=\"blank\" ></th>        <th class=\"blank\" ></th>    </tr></thead><tbody>\n",
       "                <tr>\n",
       "                        <th id=\"T_ce2bc00c_7166_11ea_ba76_e4a4718e2aaalevel0_row0\" class=\"row_heading level0 row0\" >Male</th>\n",
       "                        <td id=\"T_ce2bc00c_7166_11ea_ba76_e4a4718e2aaarow0_col0\" class=\"data row0 col0\" >652</td>\n",
       "                        <td id=\"T_ce2bc00c_7166_11ea_ba76_e4a4718e2aaarow0_col1\" class=\"data row0 col1\" >$3.02</td>\n",
       "                        <td id=\"T_ce2bc00c_7166_11ea_ba76_e4a4718e2aaarow0_col2\" class=\"data row0 col2\" >$1967.64</td>\n",
       "                        <td id=\"T_ce2bc00c_7166_11ea_ba76_e4a4718e2aaarow0_col3\" class=\"data row0 col3\" >$4.07</td>\n",
       "            </tr>\n",
       "            <tr>\n",
       "                        <th id=\"T_ce2bc00c_7166_11ea_ba76_e4a4718e2aaalevel0_row1\" class=\"row_heading level0 row1\" >Female</th>\n",
       "                        <td id=\"T_ce2bc00c_7166_11ea_ba76_e4a4718e2aaarow1_col0\" class=\"data row1 col0\" >113</td>\n",
       "                        <td id=\"T_ce2bc00c_7166_11ea_ba76_e4a4718e2aaarow1_col1\" class=\"data row1 col1\" >$3.20</td>\n",
       "                        <td id=\"T_ce2bc00c_7166_11ea_ba76_e4a4718e2aaarow1_col2\" class=\"data row1 col2\" >$361.94</td>\n",
       "                        <td id=\"T_ce2bc00c_7166_11ea_ba76_e4a4718e2aaarow1_col3\" class=\"data row1 col3\" >$4.47</td>\n",
       "            </tr>\n",
       "            <tr>\n",
       "                        <th id=\"T_ce2bc00c_7166_11ea_ba76_e4a4718e2aaalevel0_row2\" class=\"row_heading level0 row2\" >Other / Non-Disclosed</th>\n",
       "                        <td id=\"T_ce2bc00c_7166_11ea_ba76_e4a4718e2aaarow2_col0\" class=\"data row2 col0\" >15</td>\n",
       "                        <td id=\"T_ce2bc00c_7166_11ea_ba76_e4a4718e2aaarow2_col1\" class=\"data row2 col1\" >$3.35</td>\n",
       "                        <td id=\"T_ce2bc00c_7166_11ea_ba76_e4a4718e2aaarow2_col2\" class=\"data row2 col2\" >$50.19</td>\n",
       "                        <td id=\"T_ce2bc00c_7166_11ea_ba76_e4a4718e2aaarow2_col3\" class=\"data row2 col3\" >$4.56</td>\n",
       "            </tr>\n",
       "    </tbody></table>"
      ],
      "text/plain": [
       "<pandas.io.formats.style.Styler at 0x2907e1d6848>"
      ]
     },
     "execution_count": 179,
     "metadata": {},
     "output_type": "execute_result"
    }
   ],
   "source": [
    "pur_count= genders['Purchase ID'].count()\n",
    "avg_pur= genders['Price'].mean()\n",
    "total_pur= genders['Price'].sum()\n",
    "avg_total_pur= total_pur/gender_count\n",
    "\n",
    "genderpur_df= pd.DataFrame({'Purchase Count':pur_count,\n",
    "                           'Average Purchase Price':avg_pur,\n",
    "                            'Total Purchase Value':total_pur,\n",
    "                           'Average Total per Person':avg_total_pur})\n",
    "\n",
    "genderpur_df= genderpur_df.sort_values([\"Purchase Count\"], ascending = False).style.format({\"Average Purchase Price\":\"${:.2f}\",\n",
    "                                                                              'Total Purchase Value':\"${:.2f}\",\n",
    "                                                                             'Average Total per Person':\"${:.2f}\"})\n",
    "genderpur_df"
   ]
  },
  {
   "cell_type": "markdown",
   "metadata": {},
   "source": [
    "## Age Demographics"
   ]
  },
  {
   "cell_type": "markdown",
   "metadata": {},
   "source": [
    "* Establish bins for ages\n",
    "\n",
    "\n",
    "* Categorize the existing players using the age bins. Hint: use pd.cut()\n",
    "\n",
    "\n",
    "* Calculate the numbers and percentages by age group\n",
    "\n",
    "\n",
    "* Create a summary data frame to hold the results\n",
    "\n",
    "\n",
    "* Optional: round the percentage column to two decimal points\n",
    "\n",
    "\n",
    "* Display Age Demographics Table\n"
   ]
  },
  {
   "cell_type": "code",
   "execution_count": 180,
   "metadata": {},
   "outputs": [
    {
     "data": {
      "text/html": [
       "<style  type=\"text/css\" >\n",
       "</style><table id=\"T_cf8b7f90_7166_11ea_ae52_e4a4718e2aaa\" ><thead>    <tr>        <th class=\"blank level0\" ></th>        <th class=\"col_heading level0 col0\" >Count</th>        <th class=\"col_heading level0 col1\" >Percentage of Players</th>    </tr>    <tr>        <th class=\"index_name level0\" >Age Group</th>        <th class=\"blank\" ></th>        <th class=\"blank\" ></th>    </tr></thead><tbody>\n",
       "                <tr>\n",
       "                        <th id=\"T_cf8b7f90_7166_11ea_ae52_e4a4718e2aaalevel0_row0\" class=\"row_heading level0 row0\" ><10</th>\n",
       "                        <td id=\"T_cf8b7f90_7166_11ea_ae52_e4a4718e2aaarow0_col0\" class=\"data row0 col0\" >17</td>\n",
       "                        <td id=\"T_cf8b7f90_7166_11ea_ae52_e4a4718e2aaarow0_col1\" class=\"data row0 col1\" >2.95%</td>\n",
       "            </tr>\n",
       "            <tr>\n",
       "                        <th id=\"T_cf8b7f90_7166_11ea_ae52_e4a4718e2aaalevel0_row1\" class=\"row_heading level0 row1\" >10-14</th>\n",
       "                        <td id=\"T_cf8b7f90_7166_11ea_ae52_e4a4718e2aaarow1_col0\" class=\"data row1 col0\" >22</td>\n",
       "                        <td id=\"T_cf8b7f90_7166_11ea_ae52_e4a4718e2aaarow1_col1\" class=\"data row1 col1\" >3.82%</td>\n",
       "            </tr>\n",
       "            <tr>\n",
       "                        <th id=\"T_cf8b7f90_7166_11ea_ae52_e4a4718e2aaalevel0_row2\" class=\"row_heading level0 row2\" >15-19</th>\n",
       "                        <td id=\"T_cf8b7f90_7166_11ea_ae52_e4a4718e2aaarow2_col0\" class=\"data row2 col0\" >107</td>\n",
       "                        <td id=\"T_cf8b7f90_7166_11ea_ae52_e4a4718e2aaarow2_col1\" class=\"data row2 col1\" >18.58%</td>\n",
       "            </tr>\n",
       "            <tr>\n",
       "                        <th id=\"T_cf8b7f90_7166_11ea_ae52_e4a4718e2aaalevel0_row3\" class=\"row_heading level0 row3\" >20-24</th>\n",
       "                        <td id=\"T_cf8b7f90_7166_11ea_ae52_e4a4718e2aaarow3_col0\" class=\"data row3 col0\" >258</td>\n",
       "                        <td id=\"T_cf8b7f90_7166_11ea_ae52_e4a4718e2aaarow3_col1\" class=\"data row3 col1\" >44.79%</td>\n",
       "            </tr>\n",
       "            <tr>\n",
       "                        <th id=\"T_cf8b7f90_7166_11ea_ae52_e4a4718e2aaalevel0_row4\" class=\"row_heading level0 row4\" >25-29</th>\n",
       "                        <td id=\"T_cf8b7f90_7166_11ea_ae52_e4a4718e2aaarow4_col0\" class=\"data row4 col0\" >77</td>\n",
       "                        <td id=\"T_cf8b7f90_7166_11ea_ae52_e4a4718e2aaarow4_col1\" class=\"data row4 col1\" >13.37%</td>\n",
       "            </tr>\n",
       "            <tr>\n",
       "                        <th id=\"T_cf8b7f90_7166_11ea_ae52_e4a4718e2aaalevel0_row5\" class=\"row_heading level0 row5\" >30-34</th>\n",
       "                        <td id=\"T_cf8b7f90_7166_11ea_ae52_e4a4718e2aaarow5_col0\" class=\"data row5 col0\" >52</td>\n",
       "                        <td id=\"T_cf8b7f90_7166_11ea_ae52_e4a4718e2aaarow5_col1\" class=\"data row5 col1\" >9.03%</td>\n",
       "            </tr>\n",
       "            <tr>\n",
       "                        <th id=\"T_cf8b7f90_7166_11ea_ae52_e4a4718e2aaalevel0_row6\" class=\"row_heading level0 row6\" >35-39</th>\n",
       "                        <td id=\"T_cf8b7f90_7166_11ea_ae52_e4a4718e2aaarow6_col0\" class=\"data row6 col0\" >31</td>\n",
       "                        <td id=\"T_cf8b7f90_7166_11ea_ae52_e4a4718e2aaarow6_col1\" class=\"data row6 col1\" >5.38%</td>\n",
       "            </tr>\n",
       "            <tr>\n",
       "                        <th id=\"T_cf8b7f90_7166_11ea_ae52_e4a4718e2aaalevel0_row7\" class=\"row_heading level0 row7\" >40+</th>\n",
       "                        <td id=\"T_cf8b7f90_7166_11ea_ae52_e4a4718e2aaarow7_col0\" class=\"data row7 col0\" >12</td>\n",
       "                        <td id=\"T_cf8b7f90_7166_11ea_ae52_e4a4718e2aaarow7_col1\" class=\"data row7 col1\" >2.08%</td>\n",
       "            </tr>\n",
       "    </tbody></table>"
      ],
      "text/plain": [
       "<pandas.io.formats.style.Styler at 0x2907e0a8d88>"
      ]
     },
     "execution_count": 180,
     "metadata": {},
     "output_type": "execute_result"
    }
   ],
   "source": [
    "age_bins = [0, 9, 14, 19, 24, 29, 34, 39, 123]\n",
    "bin_names = [\"<10\", \"10-14\", \"15-19\", \"20-24\", \"25-29\", \"30-34\", \"35-39\", \"40+\"]\n",
    "\n",
    "store_data[\"Age Group\"] = pd.cut(store_data[\"Age\"],age_bins, labels=bin_names)\n",
    "\n",
    "age_group= store_data.groupby(\"Age Group\")\n",
    "\n",
    "age_count= age_group[\"SN\"].nunique()\n",
    "\n",
    "age_percent= (age_count/totalplayers)*100\n",
    "\n",
    "age_df= pd.DataFrame({\"Count\":age_count,\n",
    "                     \"Percentage of Players\":age_percent})\n",
    "age_df= age_df.style.format({\"Percentage of Players\":\"{:,.2f}%\"})\n",
    "age_df"
   ]
  },
  {
   "cell_type": "markdown",
   "metadata": {},
   "source": [
    "## Purchasing Analysis (Age)"
   ]
  },
  {
   "cell_type": "markdown",
   "metadata": {},
   "source": [
    "* Bin the purchase_data data frame by age\n",
    "\n",
    "\n",
    "* Run basic calculations to obtain purchase count, avg. purchase price, avg. purchase total per person etc. in the table below\n",
    "\n",
    "\n",
    "* Create a summary data frame to hold the results\n",
    "\n",
    "\n",
    "* Optional: give the displayed data cleaner formatting\n",
    "\n",
    "\n",
    "* Display the summary data frame"
   ]
  },
  {
   "cell_type": "code",
   "execution_count": 181,
   "metadata": {},
   "outputs": [
    {
     "data": {
      "text/html": [
       "<style  type=\"text/css\" >\n",
       "</style><table id=\"T_d0d46074_7166_11ea_8415_e4a4718e2aaa\" ><thead>    <tr>        <th class=\"blank level0\" ></th>        <th class=\"col_heading level0 col0\" >Purchase Count</th>        <th class=\"col_heading level0 col1\" >Avg. Purchase Price</th>        <th class=\"col_heading level0 col2\" >Total Purchase Value</th>        <th class=\"col_heading level0 col3\" >Avg. Total per Age</th>    </tr>    <tr>        <th class=\"index_name level0\" >Age Group</th>        <th class=\"blank\" ></th>        <th class=\"blank\" ></th>        <th class=\"blank\" ></th>        <th class=\"blank\" ></th>    </tr></thead><tbody>\n",
       "                <tr>\n",
       "                        <th id=\"T_d0d46074_7166_11ea_8415_e4a4718e2aaalevel0_row0\" class=\"row_heading level0 row0\" ><10</th>\n",
       "                        <td id=\"T_d0d46074_7166_11ea_8415_e4a4718e2aaarow0_col0\" class=\"data row0 col0\" >23</td>\n",
       "                        <td id=\"T_d0d46074_7166_11ea_8415_e4a4718e2aaarow0_col1\" class=\"data row0 col1\" >$3.35</td>\n",
       "                        <td id=\"T_d0d46074_7166_11ea_8415_e4a4718e2aaarow0_col2\" class=\"data row0 col2\" >$77.13</td>\n",
       "                        <td id=\"T_d0d46074_7166_11ea_8415_e4a4718e2aaarow0_col3\" class=\"data row0 col3\" >$4.54</td>\n",
       "            </tr>\n",
       "            <tr>\n",
       "                        <th id=\"T_d0d46074_7166_11ea_8415_e4a4718e2aaalevel0_row1\" class=\"row_heading level0 row1\" >10-14</th>\n",
       "                        <td id=\"T_d0d46074_7166_11ea_8415_e4a4718e2aaarow1_col0\" class=\"data row1 col0\" >28</td>\n",
       "                        <td id=\"T_d0d46074_7166_11ea_8415_e4a4718e2aaarow1_col1\" class=\"data row1 col1\" >$2.96</td>\n",
       "                        <td id=\"T_d0d46074_7166_11ea_8415_e4a4718e2aaarow1_col2\" class=\"data row1 col2\" >$82.78</td>\n",
       "                        <td id=\"T_d0d46074_7166_11ea_8415_e4a4718e2aaarow1_col3\" class=\"data row1 col3\" >$3.76</td>\n",
       "            </tr>\n",
       "            <tr>\n",
       "                        <th id=\"T_d0d46074_7166_11ea_8415_e4a4718e2aaalevel0_row2\" class=\"row_heading level0 row2\" >15-19</th>\n",
       "                        <td id=\"T_d0d46074_7166_11ea_8415_e4a4718e2aaarow2_col0\" class=\"data row2 col0\" >136</td>\n",
       "                        <td id=\"T_d0d46074_7166_11ea_8415_e4a4718e2aaarow2_col1\" class=\"data row2 col1\" >$3.04</td>\n",
       "                        <td id=\"T_d0d46074_7166_11ea_8415_e4a4718e2aaarow2_col2\" class=\"data row2 col2\" >$412.89</td>\n",
       "                        <td id=\"T_d0d46074_7166_11ea_8415_e4a4718e2aaarow2_col3\" class=\"data row2 col3\" >$3.86</td>\n",
       "            </tr>\n",
       "            <tr>\n",
       "                        <th id=\"T_d0d46074_7166_11ea_8415_e4a4718e2aaalevel0_row3\" class=\"row_heading level0 row3\" >20-24</th>\n",
       "                        <td id=\"T_d0d46074_7166_11ea_8415_e4a4718e2aaarow3_col0\" class=\"data row3 col0\" >365</td>\n",
       "                        <td id=\"T_d0d46074_7166_11ea_8415_e4a4718e2aaarow3_col1\" class=\"data row3 col1\" >$3.05</td>\n",
       "                        <td id=\"T_d0d46074_7166_11ea_8415_e4a4718e2aaarow3_col2\" class=\"data row3 col2\" >$1,114.06</td>\n",
       "                        <td id=\"T_d0d46074_7166_11ea_8415_e4a4718e2aaarow3_col3\" class=\"data row3 col3\" >$4.32</td>\n",
       "            </tr>\n",
       "            <tr>\n",
       "                        <th id=\"T_d0d46074_7166_11ea_8415_e4a4718e2aaalevel0_row4\" class=\"row_heading level0 row4\" >25-29</th>\n",
       "                        <td id=\"T_d0d46074_7166_11ea_8415_e4a4718e2aaarow4_col0\" class=\"data row4 col0\" >101</td>\n",
       "                        <td id=\"T_d0d46074_7166_11ea_8415_e4a4718e2aaarow4_col1\" class=\"data row4 col1\" >$2.90</td>\n",
       "                        <td id=\"T_d0d46074_7166_11ea_8415_e4a4718e2aaarow4_col2\" class=\"data row4 col2\" >$293.00</td>\n",
       "                        <td id=\"T_d0d46074_7166_11ea_8415_e4a4718e2aaarow4_col3\" class=\"data row4 col3\" >$3.81</td>\n",
       "            </tr>\n",
       "            <tr>\n",
       "                        <th id=\"T_d0d46074_7166_11ea_8415_e4a4718e2aaalevel0_row5\" class=\"row_heading level0 row5\" >30-34</th>\n",
       "                        <td id=\"T_d0d46074_7166_11ea_8415_e4a4718e2aaarow5_col0\" class=\"data row5 col0\" >73</td>\n",
       "                        <td id=\"T_d0d46074_7166_11ea_8415_e4a4718e2aaarow5_col1\" class=\"data row5 col1\" >$2.93</td>\n",
       "                        <td id=\"T_d0d46074_7166_11ea_8415_e4a4718e2aaarow5_col2\" class=\"data row5 col2\" >$214.00</td>\n",
       "                        <td id=\"T_d0d46074_7166_11ea_8415_e4a4718e2aaarow5_col3\" class=\"data row5 col3\" >$4.12</td>\n",
       "            </tr>\n",
       "            <tr>\n",
       "                        <th id=\"T_d0d46074_7166_11ea_8415_e4a4718e2aaalevel0_row6\" class=\"row_heading level0 row6\" >35-39</th>\n",
       "                        <td id=\"T_d0d46074_7166_11ea_8415_e4a4718e2aaarow6_col0\" class=\"data row6 col0\" >41</td>\n",
       "                        <td id=\"T_d0d46074_7166_11ea_8415_e4a4718e2aaarow6_col1\" class=\"data row6 col1\" >$3.60</td>\n",
       "                        <td id=\"T_d0d46074_7166_11ea_8415_e4a4718e2aaarow6_col2\" class=\"data row6 col2\" >$147.67</td>\n",
       "                        <td id=\"T_d0d46074_7166_11ea_8415_e4a4718e2aaarow6_col3\" class=\"data row6 col3\" >$4.76</td>\n",
       "            </tr>\n",
       "            <tr>\n",
       "                        <th id=\"T_d0d46074_7166_11ea_8415_e4a4718e2aaalevel0_row7\" class=\"row_heading level0 row7\" >40+</th>\n",
       "                        <td id=\"T_d0d46074_7166_11ea_8415_e4a4718e2aaarow7_col0\" class=\"data row7 col0\" >13</td>\n",
       "                        <td id=\"T_d0d46074_7166_11ea_8415_e4a4718e2aaarow7_col1\" class=\"data row7 col1\" >$2.94</td>\n",
       "                        <td id=\"T_d0d46074_7166_11ea_8415_e4a4718e2aaarow7_col2\" class=\"data row7 col2\" >$38.24</td>\n",
       "                        <td id=\"T_d0d46074_7166_11ea_8415_e4a4718e2aaarow7_col3\" class=\"data row7 col3\" >$3.19</td>\n",
       "            </tr>\n",
       "    </tbody></table>"
      ],
      "text/plain": [
       "<pandas.io.formats.style.Styler at 0x2907e16fd88>"
      ]
     },
     "execution_count": 181,
     "metadata": {},
     "output_type": "execute_result"
    }
   ],
   "source": [
    "age_purcount= age_group[\"Purchase ID\"].count()\n",
    "avg_price= age_group[\"Price\"].mean()\n",
    "total_price_age= age_group[\"Price\"].sum()\n",
    "avg_total_age= total_price_age/age_count \n",
    "\n",
    "age_price_df= pd.DataFrame({\"Purchase Count\":age_purcount,\n",
    "                           \"Avg. Purchase Price\":avg_price,\n",
    "                           \"Total Purchase Value\":total_price_age,\n",
    "                           \"Avg. Total per Age\":avg_total_age})\n",
    "age_price_df= age_price_df.style.format({\"Avg. Purchase Price\":\"${:,.2f}\",\n",
    "                               \"Total Purchase Value\":\"${:,.2f}\",\n",
    "                               \"Avg. Total per Age\":\"${:,.2f}\"})\n",
    "age_price_df"
   ]
  },
  {
   "cell_type": "markdown",
   "metadata": {},
   "source": [
    "## Top Spenders"
   ]
  },
  {
   "cell_type": "markdown",
   "metadata": {},
   "source": [
    "* Run basic calculations to obtain the results in the table below\n",
    "\n",
    "\n",
    "* Create a summary data frame to hold the results\n",
    "\n",
    "\n",
    "* Sort the total purchase value column in descending order\n",
    "\n",
    "\n",
    "* Optional: give the displayed data cleaner formatting\n",
    "\n",
    "\n",
    "* Display a preview of the summary data frame\n",
    "\n"
   ]
  },
  {
   "cell_type": "code",
   "execution_count": 182,
   "metadata": {
    "scrolled": true
   },
   "outputs": [
    {
     "data": {
      "text/html": [
       "<div>\n",
       "<style scoped>\n",
       "    .dataframe tbody tr th:only-of-type {\n",
       "        vertical-align: middle;\n",
       "    }\n",
       "\n",
       "    .dataframe tbody tr th {\n",
       "        vertical-align: top;\n",
       "    }\n",
       "\n",
       "    .dataframe thead th {\n",
       "        text-align: right;\n",
       "    }\n",
       "</style>\n",
       "<table border=\"1\" class=\"dataframe\">\n",
       "  <thead>\n",
       "    <tr style=\"text-align: right;\">\n",
       "      <th></th>\n",
       "      <th>Purchase Count</th>\n",
       "      <th>Average Purchase Price</th>\n",
       "      <th>Total Purchase Value</th>\n",
       "    </tr>\n",
       "    <tr>\n",
       "      <th>SN</th>\n",
       "      <th></th>\n",
       "      <th></th>\n",
       "      <th></th>\n",
       "    </tr>\n",
       "  </thead>\n",
       "  <tbody>\n",
       "    <tr>\n",
       "      <td>Lisosia93</td>\n",
       "      <td>5</td>\n",
       "      <td>3.792000</td>\n",
       "      <td>18.96</td>\n",
       "    </tr>\n",
       "    <tr>\n",
       "      <td>Idastidru52</td>\n",
       "      <td>4</td>\n",
       "      <td>3.862500</td>\n",
       "      <td>15.45</td>\n",
       "    </tr>\n",
       "    <tr>\n",
       "      <td>Chamjask73</td>\n",
       "      <td>3</td>\n",
       "      <td>4.610000</td>\n",
       "      <td>13.83</td>\n",
       "    </tr>\n",
       "    <tr>\n",
       "      <td>Iral74</td>\n",
       "      <td>4</td>\n",
       "      <td>3.405000</td>\n",
       "      <td>13.62</td>\n",
       "    </tr>\n",
       "    <tr>\n",
       "      <td>Iskadarya95</td>\n",
       "      <td>3</td>\n",
       "      <td>4.366667</td>\n",
       "      <td>13.10</td>\n",
       "    </tr>\n",
       "  </tbody>\n",
       "</table>\n",
       "</div>"
      ],
      "text/plain": [
       "             Purchase Count  Average Purchase Price  Total Purchase Value\n",
       "SN                                                                       \n",
       "Lisosia93                 5                3.792000                 18.96\n",
       "Idastidru52               4                3.862500                 15.45\n",
       "Chamjask73                3                4.610000                 13.83\n",
       "Iral74                    4                3.405000                 13.62\n",
       "Iskadarya95               3                4.366667                 13.10"
      ]
     },
     "execution_count": 182,
     "metadata": {},
     "output_type": "execute_result"
    }
   ],
   "source": [
    "spenders= store_data.groupby(\"SN\")\n",
    "purcount= spenders[\"Purchase ID\"].count()\n",
    "purvalue= spenders['Price'].sum()\n",
    "purmean= spenders['Price'].mean()\n",
    "\n",
    "spender_df= pd.DataFrame({\"Purchase Count\":purcount,\n",
    "                         \"Average Purchase Price\":purmean,\n",
    "                         \"Total Purchase Value\":purvalue})\n",
    "spender_df= spender_df.sort_values([\"Total Purchase Value\"], ascending = False)\n",
    "spender_df.head()"
   ]
  },
  {
   "cell_type": "markdown",
   "metadata": {},
   "source": [
    "## Most Popular Items"
   ]
  },
  {
   "cell_type": "markdown",
   "metadata": {},
   "source": [
    "* Retrieve the Item ID, Item Name, and Item Price columns\n",
    "\n",
    "\n",
    "* Group by Item ID and Item Name. Perform calculations to obtain purchase count, item price, and total purchase value\n",
    "\n",
    "\n",
    "* Create a summary data frame to hold the results\n",
    "\n",
    "\n",
    "* Sort the purchase count column in descending order\n",
    "\n",
    "\n",
    "* Optional: give the displayed data cleaner formatting\n",
    "\n",
    "\n",
    "* Display a preview of the summary data frame\n",
    "\n"
   ]
  },
  {
   "cell_type": "code",
   "execution_count": 183,
   "metadata": {},
   "outputs": [
    {
     "data": {
      "text/html": [
       "<div>\n",
       "<style scoped>\n",
       "    .dataframe tbody tr th:only-of-type {\n",
       "        vertical-align: middle;\n",
       "    }\n",
       "\n",
       "    .dataframe tbody tr th {\n",
       "        vertical-align: top;\n",
       "    }\n",
       "\n",
       "    .dataframe thead th {\n",
       "        text-align: right;\n",
       "    }\n",
       "</style>\n",
       "<table border=\"1\" class=\"dataframe\">\n",
       "  <thead>\n",
       "    <tr style=\"text-align: right;\">\n",
       "      <th></th>\n",
       "      <th></th>\n",
       "      <th>Purchase Count</th>\n",
       "      <th>Item Price</th>\n",
       "      <th>Total Purchase Value</th>\n",
       "    </tr>\n",
       "    <tr>\n",
       "      <th>Item ID</th>\n",
       "      <th>Item Name</th>\n",
       "      <th></th>\n",
       "      <th></th>\n",
       "      <th></th>\n",
       "    </tr>\n",
       "  </thead>\n",
       "  <tbody>\n",
       "    <tr>\n",
       "      <td>178</td>\n",
       "      <td>Oathbreaker, Last Hope of the Breaking Storm</td>\n",
       "      <td>12</td>\n",
       "      <td>4.23</td>\n",
       "      <td>50.76</td>\n",
       "    </tr>\n",
       "    <tr>\n",
       "      <td>145</td>\n",
       "      <td>Fiery Glass Crusader</td>\n",
       "      <td>9</td>\n",
       "      <td>4.58</td>\n",
       "      <td>41.22</td>\n",
       "    </tr>\n",
       "    <tr>\n",
       "      <td>108</td>\n",
       "      <td>Extraction, Quickblade Of Trembling Hands</td>\n",
       "      <td>9</td>\n",
       "      <td>3.53</td>\n",
       "      <td>31.77</td>\n",
       "    </tr>\n",
       "    <tr>\n",
       "      <td>82</td>\n",
       "      <td>Nirvana</td>\n",
       "      <td>9</td>\n",
       "      <td>4.90</td>\n",
       "      <td>44.10</td>\n",
       "    </tr>\n",
       "    <tr>\n",
       "      <td>19</td>\n",
       "      <td>Pursuit, Cudgel of Necromancy</td>\n",
       "      <td>8</td>\n",
       "      <td>1.02</td>\n",
       "      <td>8.16</td>\n",
       "    </tr>\n",
       "  </tbody>\n",
       "</table>\n",
       "</div>"
      ],
      "text/plain": [
       "                                                      Purchase Count  \\\n",
       "Item ID Item Name                                                      \n",
       "178     Oathbreaker, Last Hope of the Breaking Storm              12   \n",
       "145     Fiery Glass Crusader                                       9   \n",
       "108     Extraction, Quickblade Of Trembling Hands                  9   \n",
       "82      Nirvana                                                    9   \n",
       "19      Pursuit, Cudgel of Necromancy                              8   \n",
       "\n",
       "                                                      Item Price  \\\n",
       "Item ID Item Name                                                  \n",
       "178     Oathbreaker, Last Hope of the Breaking Storm        4.23   \n",
       "145     Fiery Glass Crusader                                4.58   \n",
       "108     Extraction, Quickblade Of Trembling Hands           3.53   \n",
       "82      Nirvana                                             4.90   \n",
       "19      Pursuit, Cudgel of Necromancy                       1.02   \n",
       "\n",
       "                                                      Total Purchase Value  \n",
       "Item ID Item Name                                                           \n",
       "178     Oathbreaker, Last Hope of the Breaking Storm                 50.76  \n",
       "145     Fiery Glass Crusader                                         41.22  \n",
       "108     Extraction, Quickblade Of Trembling Hands                    31.77  \n",
       "82      Nirvana                                                      44.10  \n",
       "19      Pursuit, Cudgel of Necromancy                                 8.16  "
      ]
     },
     "execution_count": 183,
     "metadata": {},
     "output_type": "execute_result"
    }
   ],
   "source": [
    "item_data= store_data[['Item ID','Item Name', 'Price']]\n",
    "items= store_data.groupby([\"Item ID\",\"Item Name\"])\n",
    "purcount_item= items[\"Price\"].count()\n",
    "purvalue_item= items[\"Price\"].sum()\n",
    "item_price= purvalue_item/purcount_item\n",
    "\n",
    "pop_df= pd.DataFrame({\"Purchase Count\":purcount_item,\n",
    "                     \"Item Price\":item_price,\n",
    "                     \"Total Purchase Value\":purvalue_item})\n",
    "\n",
    "pop_df= pop_df.sort_values([\"Purchase Count\"], ascending= False)\n",
    "pop_df.head()"
   ]
  },
  {
   "cell_type": "markdown",
   "metadata": {},
   "source": [
    "## Most Profitable Items"
   ]
  },
  {
   "cell_type": "markdown",
   "metadata": {},
   "source": [
    "* Sort the above table by total purchase value in descending order\n",
    "\n",
    "\n",
    "* Optional: give the displayed data cleaner formatting\n",
    "\n",
    "\n",
    "* Display a preview of the data frame\n",
    "\n"
   ]
  },
  {
   "cell_type": "code",
   "execution_count": 187,
   "metadata": {
    "scrolled": true
   },
   "outputs": [
    {
     "data": {
      "text/html": [
       "<div>\n",
       "<style scoped>\n",
       "    .dataframe tbody tr th:only-of-type {\n",
       "        vertical-align: middle;\n",
       "    }\n",
       "\n",
       "    .dataframe tbody tr th {\n",
       "        vertical-align: top;\n",
       "    }\n",
       "\n",
       "    .dataframe thead th {\n",
       "        text-align: right;\n",
       "    }\n",
       "</style>\n",
       "<table border=\"1\" class=\"dataframe\">\n",
       "  <thead>\n",
       "    <tr style=\"text-align: right;\">\n",
       "      <th></th>\n",
       "      <th></th>\n",
       "      <th>Purchase Count</th>\n",
       "      <th>Item Price</th>\n",
       "      <th>Total Purchase Value</th>\n",
       "    </tr>\n",
       "    <tr>\n",
       "      <th>Item ID</th>\n",
       "      <th>Item Name</th>\n",
       "      <th></th>\n",
       "      <th></th>\n",
       "      <th></th>\n",
       "    </tr>\n",
       "  </thead>\n",
       "  <tbody>\n",
       "    <tr>\n",
       "      <td>178</td>\n",
       "      <td>Oathbreaker, Last Hope of the Breaking Storm</td>\n",
       "      <td>12</td>\n",
       "      <td>4.23</td>\n",
       "      <td>50.76</td>\n",
       "    </tr>\n",
       "    <tr>\n",
       "      <td>82</td>\n",
       "      <td>Nirvana</td>\n",
       "      <td>9</td>\n",
       "      <td>4.90</td>\n",
       "      <td>44.10</td>\n",
       "    </tr>\n",
       "    <tr>\n",
       "      <td>145</td>\n",
       "      <td>Fiery Glass Crusader</td>\n",
       "      <td>9</td>\n",
       "      <td>4.58</td>\n",
       "      <td>41.22</td>\n",
       "    </tr>\n",
       "    <tr>\n",
       "      <td>92</td>\n",
       "      <td>Final Critic</td>\n",
       "      <td>8</td>\n",
       "      <td>4.88</td>\n",
       "      <td>39.04</td>\n",
       "    </tr>\n",
       "    <tr>\n",
       "      <td>103</td>\n",
       "      <td>Singed Scalpel</td>\n",
       "      <td>8</td>\n",
       "      <td>4.35</td>\n",
       "      <td>34.80</td>\n",
       "    </tr>\n",
       "  </tbody>\n",
       "</table>\n",
       "</div>"
      ],
      "text/plain": [
       "                                                      Purchase Count  \\\n",
       "Item ID Item Name                                                      \n",
       "178     Oathbreaker, Last Hope of the Breaking Storm              12   \n",
       "82      Nirvana                                                    9   \n",
       "145     Fiery Glass Crusader                                       9   \n",
       "92      Final Critic                                               8   \n",
       "103     Singed Scalpel                                             8   \n",
       "\n",
       "                                                      Item Price  \\\n",
       "Item ID Item Name                                                  \n",
       "178     Oathbreaker, Last Hope of the Breaking Storm        4.23   \n",
       "82      Nirvana                                             4.90   \n",
       "145     Fiery Glass Crusader                                4.58   \n",
       "92      Final Critic                                        4.88   \n",
       "103     Singed Scalpel                                      4.35   \n",
       "\n",
       "                                                      Total Purchase Value  \n",
       "Item ID Item Name                                                           \n",
       "178     Oathbreaker, Last Hope of the Breaking Storm                 50.76  \n",
       "82      Nirvana                                                      44.10  \n",
       "145     Fiery Glass Crusader                                         41.22  \n",
       "92      Final Critic                                                 39.04  \n",
       "103     Singed Scalpel                                               34.80  "
      ]
     },
     "execution_count": 187,
     "metadata": {},
     "output_type": "execute_result"
    }
   ],
   "source": [
    "profitable_df= pop_df.sort_values([\"Total Purchase Value\"], ascending= False)\n",
    "\n",
    "profitable_df.head()"
   ]
  },
  {
   "cell_type": "code",
   "execution_count": 190,
   "metadata": {},
   "outputs": [],
   "source": [
    "###Observable Trends"
   ]
  },
  {
   "cell_type": "code",
   "execution_count": 192,
   "metadata": {},
   "outputs": [],
   "source": [
    "# 1. Males are most likely to make purchases with 652 total purchases.\n",
    "# 2. The age demographic that contributes the most to purchases is 20-24 years old.\n",
    "# 3. The vast majority of paying members are male, \n",
    "#     making up 84% of the purchases in this data set"
   ]
  },
  {
   "cell_type": "code",
   "execution_count": null,
   "metadata": {},
   "outputs": [],
   "source": []
  }
 ],
 "metadata": {
  "anaconda-cloud": {},
  "kernel_info": {
   "name": "python3"
  },
  "kernelspec": {
   "display_name": "Python 3",
   "language": "python",
   "name": "python3"
  },
  "language_info": {
   "codemirror_mode": {
    "name": "ipython",
    "version": 3
   },
   "file_extension": ".py",
   "mimetype": "text/x-python",
   "name": "python",
   "nbconvert_exporter": "python",
   "pygments_lexer": "ipython3",
   "version": "3.7.4"
  },
  "latex_envs": {
   "LaTeX_envs_menu_present": true,
   "autoclose": false,
   "autocomplete": true,
   "bibliofile": "biblio.bib",
   "cite_by": "apalike",
   "current_citInitial": 1,
   "eqLabelWithNumbers": true,
   "eqNumInitial": 1,
   "hotkeys": {
    "equation": "Ctrl-E",
    "itemize": "Ctrl-I"
   },
   "labels_anchors": false,
   "latex_user_defs": false,
   "report_style_numbering": false,
   "user_envs_cfg": false
  },
  "nteract": {
   "version": "0.2.0"
  }
 },
 "nbformat": 4,
 "nbformat_minor": 2
}
